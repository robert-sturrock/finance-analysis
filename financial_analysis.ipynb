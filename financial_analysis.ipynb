{
  "nbformat": 4,
  "nbformat_minor": 0,
  "metadata": {
    "colab": {
      "name": "financial-analysis.ipynb",
      "version": "0.3.2",
      "provenance": [],
      "collapsed_sections": [],
      "include_colab_link": true
    },
    "kernelspec": {
      "display_name": "Python 3",
      "language": "python",
      "name": "python3"
    }
  },
  "cells": [
    {
      "cell_type": "markdown",
      "metadata": {
        "id": "view-in-github",
        "colab_type": "text"
      },
      "source": [
        "<a href=\"https://colab.research.google.com/github/robert-sturrock/finance-analysis/blob/master/financial_analysis.ipynb\" target=\"_parent\"><img src=\"https://colab.research.google.com/assets/colab-badge.svg\" alt=\"Open In Colab\"/></a>"
      ]
    },
    {
      "metadata": {
        "id": "n8syyc6myjh9",
        "colab_type": "code",
        "outputId": "bede4bcf-d969-4bf5-f759-6fa9b492e093",
        "colab": {
          "base_uri": "https://localhost:8080/",
          "height": 426
        }
      },
      "cell_type": "code",
      "source": [
        "!pip install -U seaborn"
      ],
      "execution_count": 0,
      "outputs": [
        {
          "output_type": "stream",
          "text": [
            "Collecting seaborn\n",
            "\u001b[?25l  Downloading https://files.pythonhosted.org/packages/a8/76/220ba4420459d9c4c9c9587c6ce607bf56c25b3d3d2de62056efe482dadc/seaborn-0.9.0-py3-none-any.whl (208kB)\n",
            "\r\u001b[K    4% |█▋                              | 10kB 15.8MB/s eta 0:00:01\r\u001b[K    9% |███▏                            | 20kB 3.3MB/s eta 0:00:01\r\u001b[K    14% |████▊                           | 30kB 4.8MB/s eta 0:00:01\r\u001b[K    19% |██████▎                         | 40kB 3.1MB/s eta 0:00:01\r\u001b[K    24% |███████▉                        | 51kB 3.8MB/s eta 0:00:01\r\u001b[K    29% |█████████▌                      | 61kB 4.5MB/s eta 0:00:01\r\u001b[K    34% |███████████                     | 71kB 5.2MB/s eta 0:00:01\r\u001b[K    39% |████████████▋                   | 81kB 5.8MB/s eta 0:00:01\r\u001b[K    44% |██████████████▏                 | 92kB 6.5MB/s eta 0:00:01\r\u001b[K    49% |███████████████▊                | 102kB 5.1MB/s eta 0:00:01\r\u001b[K    54% |█████████████████▎              | 112kB 5.2MB/s eta 0:00:01\r\u001b[K    59% |███████████████████             | 122kB 7.1MB/s eta 0:00:01\r\u001b[K    63% |████████████████████▌           | 133kB 7.0MB/s eta 0:00:01\r\u001b[K    68% |██████████████████████          | 143kB 12.8MB/s eta 0:00:01\r\u001b[K    73% |███████████████████████▋        | 153kB 13.0MB/s eta 0:00:01\r\u001b[K    78% |█████████████████████████▏      | 163kB 13.0MB/s eta 0:00:01\r\u001b[K    83% |██████████████████████████▊     | 174kB 12.6MB/s eta 0:00:01\r\u001b[K    88% |████████████████████████████▍   | 184kB 12.7MB/s eta 0:00:01\r\u001b[K    93% |██████████████████████████████  | 194kB 12.7MB/s eta 0:00:01\r\u001b[K    98% |███████████████████████████████▌| 204kB 42.2MB/s eta 0:00:01\r\u001b[K    100% |████████████████████████████████| 215kB 26.6MB/s \n",
            "\u001b[?25hRequirement already satisfied, skipping upgrade: matplotlib>=1.4.3 in /usr/local/lib/python3.6/dist-packages (from seaborn) (3.0.2)\n",
            "Requirement already satisfied, skipping upgrade: numpy>=1.9.3 in /usr/local/lib/python3.6/dist-packages (from seaborn) (1.14.6)\n",
            "Requirement already satisfied, skipping upgrade: scipy>=0.14.0 in /usr/local/lib/python3.6/dist-packages (from seaborn) (1.1.0)\n",
            "Requirement already satisfied, skipping upgrade: pandas>=0.15.2 in /usr/local/lib/python3.6/dist-packages (from seaborn) (0.22.0)\n",
            "Requirement already satisfied, skipping upgrade: python-dateutil>=2.1 in /usr/local/lib/python3.6/dist-packages (from matplotlib>=1.4.3->seaborn) (2.5.3)\n",
            "Requirement already satisfied, skipping upgrade: cycler>=0.10 in /usr/local/lib/python3.6/dist-packages (from matplotlib>=1.4.3->seaborn) (0.10.0)\n",
            "Requirement already satisfied, skipping upgrade: kiwisolver>=1.0.1 in /usr/local/lib/python3.6/dist-packages (from matplotlib>=1.4.3->seaborn) (1.0.1)\n",
            "Requirement already satisfied, skipping upgrade: pyparsing!=2.0.4,!=2.1.2,!=2.1.6,>=2.0.1 in /usr/local/lib/python3.6/dist-packages (from matplotlib>=1.4.3->seaborn) (2.3.1)\n",
            "Requirement already satisfied, skipping upgrade: pytz>=2011k in /usr/local/lib/python3.6/dist-packages (from pandas>=0.15.2->seaborn) (2018.9)\n",
            "Requirement already satisfied, skipping upgrade: six>=1.5 in /usr/local/lib/python3.6/dist-packages (from python-dateutil>=2.1->matplotlib>=1.4.3->seaborn) (1.11.0)\n",
            "Requirement already satisfied, skipping upgrade: setuptools in /usr/local/lib/python3.6/dist-packages (from kiwisolver>=1.0.1->matplotlib>=1.4.3->seaborn) (40.8.0)\n",
            "Installing collected packages: seaborn\n",
            "  Found existing installation: seaborn 0.7.1\n",
            "    Uninstalling seaborn-0.7.1:\n",
            "      Successfully uninstalled seaborn-0.7.1\n",
            "Successfully installed seaborn-0.9.0\n"
          ],
          "name": "stdout"
        },
        {
          "output_type": "display_data",
          "data": {
            "application/vnd.colab-display-data+json": {
              "pip_warning": {
                "packages": [
                  "seaborn"
                ]
              }
            }
          },
          "metadata": {
            "tags": []
          }
        }
      ]
    },
    {
      "metadata": {
        "id": "wHslqt3dMLVu",
        "colab_type": "code",
        "outputId": "9c318d0b-bbe3-4952-e600-d12ee2f95faf",
        "colab": {
          "base_uri": "https://localhost:8080/",
          "height": 1870
        }
      },
      "cell_type": "code",
      "source": [
        "!pip install dash==0.35.1  # The core dash backend\n",
        "!pip install dash-html-components==0.13.4  # HTML components\n",
        "!pip install dash-core-components==0.42.1  # Supercharged components\n",
        "!pip install dash-table==3.1.11  # Interactive DataTable component (new!)"
      ],
      "execution_count": 0,
      "outputs": [
        {
          "output_type": "stream",
          "text": [
            "Collecting dash==0.35.1\n",
            "  Downloading https://files.pythonhosted.org/packages/d0/9e/0c2dde6f2c5e245f0e1a697c821b59715febda09df42e5d850b9ee6d7710/dash-0.35.1.tar.gz\n",
            "Requirement already satisfied: Flask>=0.12 in /usr/local/lib/python3.6/dist-packages (from dash==0.35.1) (1.0.2)\n",
            "Collecting flask-compress (from dash==0.35.1)\n",
            "  Downloading https://files.pythonhosted.org/packages/0e/2a/378bd072928f6d92fd8c417d66b00c757dc361c0405a46a0134de6fd323d/Flask-Compress-1.4.0.tar.gz\n",
            "Requirement already satisfied: plotly in /usr/local/lib/python3.6/dist-packages (from dash==0.35.1) (1.12.12)\n",
            "Collecting dash_renderer (from dash==0.35.1)\n",
            "\u001b[?25l  Downloading https://files.pythonhosted.org/packages/94/f2/70083bfdb19fd278d64980d293e0b8b6a0efedc81a0a41c34544a343c045/dash_renderer-0.17.0.tar.gz (936kB)\n",
            "\u001b[K    100% |████████████████████████████████| 942kB 1.9MB/s \n",
            "\u001b[?25hRequirement already satisfied: Werkzeug>=0.14 in /usr/local/lib/python3.6/dist-packages (from Flask>=0.12->dash==0.35.1) (0.14.1)\n",
            "Requirement already satisfied: Jinja2>=2.10 in /usr/local/lib/python3.6/dist-packages (from Flask>=0.12->dash==0.35.1) (2.10)\n",
            "Requirement already satisfied: click>=5.1 in /usr/local/lib/python3.6/dist-packages (from Flask>=0.12->dash==0.35.1) (7.0)\n",
            "Requirement already satisfied: itsdangerous>=0.24 in /usr/local/lib/python3.6/dist-packages (from Flask>=0.12->dash==0.35.1) (1.1.0)\n",
            "Requirement already satisfied: requests in /usr/local/lib/python3.6/dist-packages (from plotly->dash==0.35.1) (2.18.4)\n",
            "Requirement already satisfied: six in /usr/local/lib/python3.6/dist-packages (from plotly->dash==0.35.1) (1.11.0)\n",
            "Requirement already satisfied: pytz in /usr/local/lib/python3.6/dist-packages (from plotly->dash==0.35.1) (2018.9)\n",
            "Requirement already satisfied: MarkupSafe>=0.23 in /usr/local/lib/python3.6/dist-packages (from Jinja2>=2.10->Flask>=0.12->dash==0.35.1) (1.1.0)\n",
            "Requirement already satisfied: urllib3<1.23,>=1.21.1 in /usr/local/lib/python3.6/dist-packages (from requests->plotly->dash==0.35.1) (1.22)\n",
            "Requirement already satisfied: chardet<3.1.0,>=3.0.2 in /usr/local/lib/python3.6/dist-packages (from requests->plotly->dash==0.35.1) (3.0.4)\n",
            "Requirement already satisfied: certifi>=2017.4.17 in /usr/local/lib/python3.6/dist-packages (from requests->plotly->dash==0.35.1) (2018.11.29)\n",
            "Requirement already satisfied: idna<2.7,>=2.5 in /usr/local/lib/python3.6/dist-packages (from requests->plotly->dash==0.35.1) (2.6)\n",
            "Building wheels for collected packages: dash, flask-compress, dash-renderer\n",
            "  Building wheel for dash (setup.py) ... \u001b[?25ldone\n",
            "\u001b[?25h  Stored in directory: /root/.cache/pip/wheels/5a/c8/61/4daf9b3c3b33e8037294f3e694b84b2a6e04cf1d7ab6724fa5\n",
            "  Building wheel for flask-compress (setup.py) ... \u001b[?25ldone\n",
            "\u001b[?25h  Stored in directory: /root/.cache/pip/wheels/96/32/88/a1f6d9dd3c29570ab3a8acc0d556b3b20abcf3c623c868ce0a\n",
            "  Building wheel for dash-renderer (setup.py) ... \u001b[?25ldone\n",
            "\u001b[?25h  Stored in directory: /root/.cache/pip/wheels/09/d2/49/0d140766d5ee1ef4ce271d302a5d30cf3d18c5b507e48c77f3\n",
            "Successfully built dash flask-compress dash-renderer\n",
            "Installing collected packages: flask-compress, dash-renderer, dash\n",
            "Successfully installed dash-0.35.1 dash-renderer-0.17.0 flask-compress-1.4.0\n",
            "Collecting dash-html-components==0.13.4\n",
            "\u001b[?25l  Downloading https://files.pythonhosted.org/packages/b0/31/1b796b76ee5e2b2264903ecb44b34663e588efcd0b7d3bbb14849443aa5c/dash_html_components-0.13.4.tar.gz (528kB)\n",
            "\u001b[K    100% |████████████████████████████████| 532kB 23.3MB/s \n",
            "\u001b[?25hRequirement already satisfied: dash in /usr/local/lib/python3.6/dist-packages (from dash-html-components==0.13.4) (0.35.1)\n",
            "Requirement already satisfied: Flask>=0.12 in /usr/local/lib/python3.6/dist-packages (from dash->dash-html-components==0.13.4) (1.0.2)\n",
            "Requirement already satisfied: flask-compress in /usr/local/lib/python3.6/dist-packages (from dash->dash-html-components==0.13.4) (1.4.0)\n",
            "Requirement already satisfied: dash-renderer in /usr/local/lib/python3.6/dist-packages (from dash->dash-html-components==0.13.4) (0.17.0)\n",
            "Requirement already satisfied: plotly in /usr/local/lib/python3.6/dist-packages (from dash->dash-html-components==0.13.4) (1.12.12)\n",
            "Requirement already satisfied: Jinja2>=2.10 in /usr/local/lib/python3.6/dist-packages (from Flask>=0.12->dash->dash-html-components==0.13.4) (2.10)\n",
            "Requirement already satisfied: Werkzeug>=0.14 in /usr/local/lib/python3.6/dist-packages (from Flask>=0.12->dash->dash-html-components==0.13.4) (0.14.1)\n",
            "Requirement already satisfied: click>=5.1 in /usr/local/lib/python3.6/dist-packages (from Flask>=0.12->dash->dash-html-components==0.13.4) (7.0)\n",
            "Requirement already satisfied: itsdangerous>=0.24 in /usr/local/lib/python3.6/dist-packages (from Flask>=0.12->dash->dash-html-components==0.13.4) (1.1.0)\n",
            "Requirement already satisfied: requests in /usr/local/lib/python3.6/dist-packages (from plotly->dash->dash-html-components==0.13.4) (2.18.4)\n",
            "Requirement already satisfied: six in /usr/local/lib/python3.6/dist-packages (from plotly->dash->dash-html-components==0.13.4) (1.11.0)\n",
            "Requirement already satisfied: pytz in /usr/local/lib/python3.6/dist-packages (from plotly->dash->dash-html-components==0.13.4) (2018.9)\n",
            "Requirement already satisfied: MarkupSafe>=0.23 in /usr/local/lib/python3.6/dist-packages (from Jinja2>=2.10->Flask>=0.12->dash->dash-html-components==0.13.4) (1.1.0)\n",
            "Requirement already satisfied: idna<2.7,>=2.5 in /usr/local/lib/python3.6/dist-packages (from requests->plotly->dash->dash-html-components==0.13.4) (2.6)\n",
            "Requirement already satisfied: certifi>=2017.4.17 in /usr/local/lib/python3.6/dist-packages (from requests->plotly->dash->dash-html-components==0.13.4) (2018.11.29)\n",
            "Requirement already satisfied: urllib3<1.23,>=1.21.1 in /usr/local/lib/python3.6/dist-packages (from requests->plotly->dash->dash-html-components==0.13.4) (1.22)\n",
            "Requirement already satisfied: chardet<3.1.0,>=3.0.2 in /usr/local/lib/python3.6/dist-packages (from requests->plotly->dash->dash-html-components==0.13.4) (3.0.4)\n",
            "Building wheels for collected packages: dash-html-components\n",
            "  Building wheel for dash-html-components (setup.py) ... \u001b[?25ldone\n",
            "\u001b[?25h  Stored in directory: /root/.cache/pip/wheels/23/32/a4/73402d8718ad5e92e9d47dcfa088be5481961e2b562ea09803\n",
            "Successfully built dash-html-components\n",
            "Installing collected packages: dash-html-components\n",
            "Successfully installed dash-html-components-0.13.4\n",
            "Collecting dash-core-components==0.42.1\n",
            "\u001b[?25l  Downloading https://files.pythonhosted.org/packages/c0/d3/2d7c406fb094698a09f09c051f5e5160dc0887c0cc5b12a553790955025d/dash_core_components-0.42.1.tar.gz (4.1MB)\n",
            "\u001b[K    100% |████████████████████████████████| 4.1MB 1.2MB/s \n",
            "\u001b[?25hRequirement already satisfied: dash in /usr/local/lib/python3.6/dist-packages (from dash-core-components==0.42.1) (0.35.1)\n",
            "Requirement already satisfied: dash-renderer in /usr/local/lib/python3.6/dist-packages (from dash->dash-core-components==0.42.1) (0.17.0)\n",
            "Requirement already satisfied: plotly in /usr/local/lib/python3.6/dist-packages (from dash->dash-core-components==0.42.1) (1.12.12)\n",
            "Requirement already satisfied: flask-compress in /usr/local/lib/python3.6/dist-packages (from dash->dash-core-components==0.42.1) (1.4.0)\n",
            "Requirement already satisfied: Flask>=0.12 in /usr/local/lib/python3.6/dist-packages (from dash->dash-core-components==0.42.1) (1.0.2)\n",
            "Requirement already satisfied: requests in /usr/local/lib/python3.6/dist-packages (from plotly->dash->dash-core-components==0.42.1) (2.18.4)\n",
            "Requirement already satisfied: six in /usr/local/lib/python3.6/dist-packages (from plotly->dash->dash-core-components==0.42.1) (1.11.0)\n",
            "Requirement already satisfied: pytz in /usr/local/lib/python3.6/dist-packages (from plotly->dash->dash-core-components==0.42.1) (2018.9)\n",
            "Requirement already satisfied: Werkzeug>=0.14 in /usr/local/lib/python3.6/dist-packages (from Flask>=0.12->dash->dash-core-components==0.42.1) (0.14.1)\n",
            "Requirement already satisfied: Jinja2>=2.10 in /usr/local/lib/python3.6/dist-packages (from Flask>=0.12->dash->dash-core-components==0.42.1) (2.10)\n",
            "Requirement already satisfied: click>=5.1 in /usr/local/lib/python3.6/dist-packages (from Flask>=0.12->dash->dash-core-components==0.42.1) (7.0)\n",
            "Requirement already satisfied: itsdangerous>=0.24 in /usr/local/lib/python3.6/dist-packages (from Flask>=0.12->dash->dash-core-components==0.42.1) (1.1.0)\n",
            "Requirement already satisfied: chardet<3.1.0,>=3.0.2 in /usr/local/lib/python3.6/dist-packages (from requests->plotly->dash->dash-core-components==0.42.1) (3.0.4)\n",
            "Requirement already satisfied: idna<2.7,>=2.5 in /usr/local/lib/python3.6/dist-packages (from requests->plotly->dash->dash-core-components==0.42.1) (2.6)\n",
            "Requirement already satisfied: certifi>=2017.4.17 in /usr/local/lib/python3.6/dist-packages (from requests->plotly->dash->dash-core-components==0.42.1) (2018.11.29)\n",
            "Requirement already satisfied: urllib3<1.23,>=1.21.1 in /usr/local/lib/python3.6/dist-packages (from requests->plotly->dash->dash-core-components==0.42.1) (1.22)\n",
            "Requirement already satisfied: MarkupSafe>=0.23 in /usr/local/lib/python3.6/dist-packages (from Jinja2>=2.10->Flask>=0.12->dash->dash-core-components==0.42.1) (1.1.0)\n",
            "Building wheels for collected packages: dash-core-components\n",
            "  Building wheel for dash-core-components (setup.py) ... \u001b[?25ldone\n",
            "\u001b[?25h  Stored in directory: /root/.cache/pip/wheels/4d/0c/74/570bc5933e80be75300dfe1004b6541e0b5c8ef2b955dc7904\n",
            "Successfully built dash-core-components\n",
            "Installing collected packages: dash-core-components\n",
            "Successfully installed dash-core-components-0.42.1\n",
            "Collecting dash-table==3.1.11\n",
            "\u001b[?25l  Downloading https://files.pythonhosted.org/packages/cf/77/121c670185022ca8c605d86fe1e2722b4827fd99b8811896a55ab8dd65ca/dash_table-3.1.11.tar.gz (299kB)\n",
            "\u001b[K    100% |████████████████████████████████| 307kB 26.9MB/s \n",
            "\u001b[?25hRequirement already satisfied: dash in /usr/local/lib/python3.6/dist-packages (from dash-table==3.1.11) (0.35.1)\n",
            "Requirement already satisfied: dash-renderer in /usr/local/lib/python3.6/dist-packages (from dash->dash-table==3.1.11) (0.17.0)\n",
            "Requirement already satisfied: Flask>=0.12 in /usr/local/lib/python3.6/dist-packages (from dash->dash-table==3.1.11) (1.0.2)\n",
            "Requirement already satisfied: plotly in /usr/local/lib/python3.6/dist-packages (from dash->dash-table==3.1.11) (1.12.12)\n",
            "Requirement already satisfied: flask-compress in /usr/local/lib/python3.6/dist-packages (from dash->dash-table==3.1.11) (1.4.0)\n",
            "Requirement already satisfied: itsdangerous>=0.24 in /usr/local/lib/python3.6/dist-packages (from Flask>=0.12->dash->dash-table==3.1.11) (1.1.0)\n",
            "Requirement already satisfied: click>=5.1 in /usr/local/lib/python3.6/dist-packages (from Flask>=0.12->dash->dash-table==3.1.11) (7.0)\n",
            "Requirement already satisfied: Jinja2>=2.10 in /usr/local/lib/python3.6/dist-packages (from Flask>=0.12->dash->dash-table==3.1.11) (2.10)\n",
            "Requirement already satisfied: Werkzeug>=0.14 in /usr/local/lib/python3.6/dist-packages (from Flask>=0.12->dash->dash-table==3.1.11) (0.14.1)\n",
            "Requirement already satisfied: requests in /usr/local/lib/python3.6/dist-packages (from plotly->dash->dash-table==3.1.11) (2.18.4)\n",
            "Requirement already satisfied: six in /usr/local/lib/python3.6/dist-packages (from plotly->dash->dash-table==3.1.11) (1.11.0)\n",
            "Requirement already satisfied: pytz in /usr/local/lib/python3.6/dist-packages (from plotly->dash->dash-table==3.1.11) (2018.9)\n",
            "Requirement already satisfied: MarkupSafe>=0.23 in /usr/local/lib/python3.6/dist-packages (from Jinja2>=2.10->Flask>=0.12->dash->dash-table==3.1.11) (1.1.0)\n",
            "Requirement already satisfied: certifi>=2017.4.17 in /usr/local/lib/python3.6/dist-packages (from requests->plotly->dash->dash-table==3.1.11) (2018.11.29)\n",
            "Requirement already satisfied: chardet<3.1.0,>=3.0.2 in /usr/local/lib/python3.6/dist-packages (from requests->plotly->dash->dash-table==3.1.11) (3.0.4)\n",
            "Requirement already satisfied: idna<2.7,>=2.5 in /usr/local/lib/python3.6/dist-packages (from requests->plotly->dash->dash-table==3.1.11) (2.6)\n",
            "Requirement already satisfied: urllib3<1.23,>=1.21.1 in /usr/local/lib/python3.6/dist-packages (from requests->plotly->dash->dash-table==3.1.11) (1.22)\n",
            "Building wheels for collected packages: dash-table\n",
            "  Building wheel for dash-table (setup.py) ... \u001b[?25ldone\n",
            "\u001b[?25h  Stored in directory: /root/.cache/pip/wheels/5e/aa/b2/f297562c61542573048d6a9ec49c57c37c2a37dc6ee9942ff6\n",
            "Successfully built dash-table\n",
            "Installing collected packages: dash-table\n",
            "Successfully installed dash-table-3.1.11\n"
          ],
          "name": "stdout"
        }
      ]
    },
    {
      "metadata": {
        "id": "DFVnW109WdkE",
        "colab_type": "code",
        "colab": {}
      },
      "cell_type": "code",
      "source": [
        "import numpy as np\n",
        "import matplotlib as m\n",
        "import matplotlib.pyplot as plt\n",
        "import nltk as n\n",
        "import re as re\n",
        "import plotly\n",
        "import pandas as pd\n",
        "import unicodedata \n",
        "import requests\n",
        "import seaborn as sns\n",
        "from pandas.compat import StringIO\n",
        "from pandas.compat import BytesIO\n",
        "from datetime import datetime\n",
        "import plotly.plotly as py\n",
        "import plotly.graph_objs as go\n",
        "plotly.tools.set_credentials_file(username='robertsturrock', api_key='cmvuePKlxyspZ3sMg1tt')\n",
        "\n",
        "%matplotlib inline\n",
        "\n",
        "from plotly.offline import init_notebook_mode, iplot\n",
        "from plotly.graph_objs import Contours, Histogram2dContour, Marker, Scatter\n",
        "\n"
      ],
      "execution_count": 0,
      "outputs": []
    },
    {
      "metadata": {
        "id": "KZOKUblt31Hm",
        "colab_type": "code",
        "colab": {}
      },
      "cell_type": "code",
      "source": [
        "def configure_plotly_browser_state():\n",
        "  import IPython\n",
        "  display(IPython.core.display.HTML('''\n",
        "        <script src=\"/static/components/requirejs/require.js\"></script>\n",
        "        <script>\n",
        "          requirejs.config({\n",
        "            paths: {\n",
        "              base: '/static/base',\n",
        "              plotly: 'https://cdn.plot.ly/plotly-1.5.1.min.js?noext',\n",
        "            },\n",
        "          });\n",
        "        </script>\n",
        "        '''))"
      ],
      "execution_count": 0,
      "outputs": []
    },
    {
      "metadata": {
        "id": "u7Z7FujSWdkI",
        "colab_type": "text"
      },
      "cell_type": "markdown",
      "source": [
        "## Load financial data\n",
        "Take in 2018 Monzo csv\n"
      ]
    },
    {
      "metadata": {
        "colab_type": "code",
        "id": "MmwQa4sv5z9F",
        "colab": {}
      },
      "cell_type": "code",
      "source": [
        "url = \"https://raw.githubusercontent.com/robert-sturrock/finance-analysis/master/Monzo%202018%20-%20Data.csv\"\n",
        "r = requests.get(url).content"
      ],
      "execution_count": 0,
      "outputs": []
    },
    {
      "metadata": {
        "colab_type": "code",
        "id": "Vlv1No_cHuKf",
        "colab": {}
      },
      "cell_type": "code",
      "source": [
        "df = pd.read_csv(url)"
      ],
      "execution_count": 0,
      "outputs": []
    },
    {
      "metadata": {
        "id": "Om3WFsAY7Ho2",
        "colab_type": "code",
        "outputId": "c3088d20-371d-4c49-f4ae-fa12b006653d",
        "colab": {
          "base_uri": "https://localhost:8080/",
          "height": 343
        }
      },
      "cell_type": "code",
      "source": [
        "df.head()"
      ],
      "execution_count": 0,
      "outputs": [
        {
          "output_type": "execute_result",
          "data": {
            "text/html": [
              "<div>\n",
              "<style scoped>\n",
              "    .dataframe tbody tr th:only-of-type {\n",
              "        vertical-align: middle;\n",
              "    }\n",
              "\n",
              "    .dataframe tbody tr th {\n",
              "        vertical-align: top;\n",
              "    }\n",
              "\n",
              "    .dataframe thead th {\n",
              "        text-align: right;\n",
              "    }\n",
              "</style>\n",
              "<table border=\"1\" class=\"dataframe\">\n",
              "  <thead>\n",
              "    <tr style=\"text-align: right;\">\n",
              "      <th></th>\n",
              "      <th>id</th>\n",
              "      <th>date</th>\n",
              "      <th>created</th>\n",
              "      <th>amount</th>\n",
              "      <th>currency</th>\n",
              "      <th>local_amount</th>\n",
              "      <th>local_currency</th>\n",
              "      <th>category</th>\n",
              "      <th>emoji</th>\n",
              "      <th>description</th>\n",
              "      <th>address</th>\n",
              "      <th>notes</th>\n",
              "      <th>alt_category</th>\n",
              "      <th>category_comb</th>\n",
              "      <th>exclude</th>\n",
              "    </tr>\n",
              "  </thead>\n",
              "  <tbody>\n",
              "    <tr>\n",
              "      <th>0</th>\n",
              "      <td>tx_00009bnW4wU2keVCipi6PB</td>\n",
              "      <td>2018-10</td>\n",
              "      <td>2018-10-17T01:00:32Z</td>\n",
              "      <td>-18.00</td>\n",
              "      <td>GBP</td>\n",
              "      <td>-18.00</td>\n",
              "      <td>GBP</td>\n",
              "      <td>bills</td>\n",
              "      <td>NaN</td>\n",
              "      <td>623394420110</td>\n",
              "      <td>NaN</td>\n",
              "      <td>623394420110</td>\n",
              "      <td>NaN</td>\n",
              "      <td>bills</td>\n",
              "      <td>0</td>\n",
              "    </tr>\n",
              "    <tr>\n",
              "      <th>1</th>\n",
              "      <td>tx_00009cu5jwKKwmhut5S1nF</td>\n",
              "      <td>2018-11</td>\n",
              "      <td>2018-11-19T03:00:30Z</td>\n",
              "      <td>-18.00</td>\n",
              "      <td>GBP</td>\n",
              "      <td>-18.00</td>\n",
              "      <td>GBP</td>\n",
              "      <td>bills</td>\n",
              "      <td>NaN</td>\n",
              "      <td>623394420110</td>\n",
              "      <td>NaN</td>\n",
              "      <td>623394420110</td>\n",
              "      <td>NaN</td>\n",
              "      <td>bills</td>\n",
              "      <td>0</td>\n",
              "    </tr>\n",
              "    <tr>\n",
              "      <th>2</th>\n",
              "      <td>tx_00009dq8DIcib5K4iB4Fub</td>\n",
              "      <td>2018-12</td>\n",
              "      <td>2018-12-17T03:01:27Z</td>\n",
              "      <td>-18.00</td>\n",
              "      <td>GBP</td>\n",
              "      <td>-18.00</td>\n",
              "      <td>GBP</td>\n",
              "      <td>bills</td>\n",
              "      <td>NaN</td>\n",
              "      <td>623394420110</td>\n",
              "      <td>NaN</td>\n",
              "      <td>623394420110</td>\n",
              "      <td>NaN</td>\n",
              "      <td>bills</td>\n",
              "      <td>0</td>\n",
              "    </tr>\n",
              "    <tr>\n",
              "      <th>3</th>\n",
              "      <td>tx_00009bGNoeADsvHw3ct2e1</td>\n",
              "      <td>2018-10</td>\n",
              "      <td>2018-10-01T01:22:29Z</td>\n",
              "      <td>-22.95</td>\n",
              "      <td>GBP</td>\n",
              "      <td>-22.95</td>\n",
              "      <td>GBP</td>\n",
              "      <td>bills</td>\n",
              "      <td>NaN</td>\n",
              "      <td>623394420110</td>\n",
              "      <td>NaN</td>\n",
              "      <td>623394420110</td>\n",
              "      <td>NaN</td>\n",
              "      <td>bills</td>\n",
              "      <td>0</td>\n",
              "    </tr>\n",
              "    <tr>\n",
              "      <th>4</th>\n",
              "      <td>tx_00009dCARIgpZjtrMIBNir</td>\n",
              "      <td>2018-11</td>\n",
              "      <td>2018-11-27T20:17:57Z</td>\n",
              "      <td>-37.88</td>\n",
              "      <td>GBP</td>\n",
              "      <td>-37.88</td>\n",
              "      <td>GBP</td>\n",
              "      <td>bills</td>\n",
              "      <td>💳</td>\n",
              "      <td>AQUA MASTERCARD ECOM   MORLEY        GBR</td>\n",
              "      <td>NaN</td>\n",
              "      <td>NaN</td>\n",
              "      <td>NaN</td>\n",
              "      <td>credit_card</td>\n",
              "      <td>0</td>\n",
              "    </tr>\n",
              "  </tbody>\n",
              "</table>\n",
              "</div>"
            ],
            "text/plain": [
              "                          id     date               created  amount currency  \\\n",
              "0  tx_00009bnW4wU2keVCipi6PB  2018-10  2018-10-17T01:00:32Z  -18.00      GBP   \n",
              "1  tx_00009cu5jwKKwmhut5S1nF  2018-11  2018-11-19T03:00:30Z  -18.00      GBP   \n",
              "2  tx_00009dq8DIcib5K4iB4Fub  2018-12  2018-12-17T03:01:27Z  -18.00      GBP   \n",
              "3  tx_00009bGNoeADsvHw3ct2e1  2018-10  2018-10-01T01:22:29Z  -22.95      GBP   \n",
              "4  tx_00009dCARIgpZjtrMIBNir  2018-11  2018-11-27T20:17:57Z  -37.88      GBP   \n",
              "\n",
              "   local_amount local_currency category emoji  \\\n",
              "0        -18.00            GBP    bills   NaN   \n",
              "1        -18.00            GBP    bills   NaN   \n",
              "2        -18.00            GBP    bills   NaN   \n",
              "3        -22.95            GBP    bills   NaN   \n",
              "4        -37.88            GBP    bills     💳   \n",
              "\n",
              "                                description address         notes  \\\n",
              "0                              623394420110     NaN  623394420110   \n",
              "1                              623394420110     NaN  623394420110   \n",
              "2                              623394420110     NaN  623394420110   \n",
              "3                              623394420110     NaN  623394420110   \n",
              "4  AQUA MASTERCARD ECOM   MORLEY        GBR     NaN           NaN   \n",
              "\n",
              "  alt_category category_comb  exclude  \n",
              "0          NaN         bills        0  \n",
              "1          NaN         bills        0  \n",
              "2          NaN         bills        0  \n",
              "3          NaN         bills        0  \n",
              "4          NaN   credit_card        0  "
            ]
          },
          "metadata": {
            "tags": []
          },
          "execution_count": 54
        }
      ]
    },
    {
      "metadata": {
        "id": "Im1Jz6lRyrUd",
        "colab_type": "code",
        "colab": {}
      },
      "cell_type": "code",
      "source": [
        "# Create date variables\n",
        "\n",
        "# Create a column with the timestamp \n",
        "df['ymd'] = df['created'].str.extract('(\\d\\d\\d\\d\\-\\d\\d-\\d\\d)T.*Z', expand=True)\n",
        "\n",
        "# Make date \n",
        "df['ymd'] =  pd.to_datetime(df['ymd'])\n"
      ],
      "execution_count": 0,
      "outputs": []
    },
    {
      "metadata": {
        "id": "oXR6mUP1vaRJ",
        "colab_type": "code",
        "colab": {}
      },
      "cell_type": "code",
      "source": [
        ""
      ],
      "execution_count": 0,
      "outputs": []
    },
    {
      "metadata": {
        "id": "Ua5IWheoWdlV",
        "colab_type": "text"
      },
      "cell_type": "markdown",
      "source": [
        "## Basic plots\n",
        "\n",
        "Looking at my financial data\n"
      ]
    },
    {
      "metadata": {
        "id": "LF-RyluIViKf",
        "colab_type": "code",
        "colab": {}
      },
      "cell_type": "code",
      "source": [
        "# Create density plot function\n",
        "def create_multi_distribution(df, group, value, title):\n",
        "  \n",
        "  # Iterate through the senders\n",
        "  for item in df[group].unique():\n",
        "\n",
        "      # Subset to the person\n",
        "      subset = df[df[group] == item]\n",
        "\n",
        "      # Draw the density plot\n",
        "      sns.distplot(subset[value], hist = False, kde = True,\n",
        "                   kde_kws = {'linewidth': 2},\n",
        "                   label = group)\n",
        "\n",
        "  # Plot formatting\n",
        "  plt.legend(prop={'size': 10}, title = 'Airline')\n",
        "  plt.title(title)\n",
        "  plt.show()\n",
        "  "
      ],
      "execution_count": 0,
      "outputs": []
    },
    {
      "metadata": {
        "id": "oDB0oFPEzzF7",
        "colab_type": "code",
        "colab": {}
      },
      "cell_type": "code",
      "source": [
        "configure_plotly_browser_state()\n",
        "init_notebook_mode(connected=False)\n",
        "\n",
        "# Create a timeseries plot of spending \n",
        "dff = df.groupby('ymd').agg({'amount':'sum'})\n",
        "\n",
        "data = [go.Scatter(x=dff.index, y=dff['amount'])]\n",
        "\n",
        "py.iplot(data, filename = 'time-series-simple')"
      ],
      "execution_count": 0,
      "outputs": []
    },
    {
      "metadata": {
        "id": "dLM0c8-5BElJ",
        "colab_type": "code",
        "colab": {}
      },
      "cell_type": "code",
      "source": [
        "configure_plotly_browser_state()\n",
        "init_notebook_mode(connected=False)\n",
        "\n",
        "# Create a timeseries plot of spending by category \n",
        "dff = df[df['category']=='eating_out'].groupby(['ymd','category']).agg({'amount':'sum'}).reset_index()\n",
        "\n",
        "data = [go.Bar(x=dff.ymd, y=-dff['amount'])] \n",
        "\n",
        "py.iplot(data, filename = 'time-series-simple')"
      ],
      "execution_count": 0,
      "outputs": []
    },
    {
      "metadata": {
        "id": "8o5ZUlv7A3NN",
        "colab_type": "code",
        "colab": {}
      },
      "cell_type": "code",
      "source": [
        "# Multiple entry chart\n",
        "\n",
        "#data = [go.Bar(x=dff.ymd, y=-dff['amount'])]\n",
        "dff = df[df['category'].isin(['eating_out','bills'])].groupby(['ymd','category']).agg({'amount':'sum'}).reset_index()\n",
        "for category in dff['category'].unique(): \n",
        "  print(category)\n",
        "\n",
        "\n",
        "data = []\n",
        "for category in dff['category'].unique():\n",
        "  dff_tmp = dff[dff['category']==category]\n",
        "  data.append(\n",
        "      go.Bar(x=dff_tmp.ymd, y=-dff_tmp['amount'], name = category)\n",
        "  )\n",
        "\n",
        "\n",
        "layout = go.Layout(\n",
        "    barmode='group'\n",
        ")\n",
        "\n",
        "fig = go.Figure(data=data, layout=layout)\n",
        "py.iplot(fig, filename='grouped-bar')\n",
        "\n"
      ],
      "execution_count": 0,
      "outputs": []
    },
    {
      "metadata": {
        "id": "N9Nvs4fhHfw6",
        "colab_type": "code",
        "colab": {}
      },
      "cell_type": "code",
      "source": [
        "def make_list(item):\n",
        "  return(item if isinstance(item, list) else [item])"
      ],
      "execution_count": 0,
      "outputs": []
    },
    {
      "metadata": {
        "id": "f8GZNAtaT5oy",
        "colab_type": "code",
        "colab": {}
      },
      "cell_type": "code",
      "source": [
        "my_text=['(sepal length: '+'{:.2f}'.format(sl)+', sepal width:'+'{:.2f}'.format(sw)+')'+\n",
        "  '<br>(petal length: '+'{:.2f}'.format(pl)+', petal width:'+'{:.2f}'.format(pw)+')'\n",
        "  for sl, sw, pl, pw in zip(list(df['sepal length (cm)']), list(df['sepal width (cm)']),\n",
        "                           list(df['petal length (cm)']), list(df['petal width (cm)'])) ] "
      ],
      "execution_count": 0,
      "outputs": []
    },
    {
      "metadata": {
        "id": "9n07qm27HKzY",
        "colab_type": "code",
        "colab": {}
      },
      "cell_type": "code",
      "source": [
        "def create_multi_bar(df, categories):\n",
        "  dff = df[df['category'].isin(make_list(categories))].groupby(['ymd','category','description']).agg({'amount':'sum'}).reset_index()\n",
        " \n",
        "\n",
        "  data = []\n",
        "  for category in dff['category'].unique():\n",
        "    dff_tmp = dff[dff['category']==category]\n",
        "    my_text = ['(Amount: '+'{:.2f}'.format(am)+'<br> Description: '+desc+')' for am, desc in zip(list(dff_tmp['amount']),list(dff_tmp['description']))]\n",
        "    data.append(\n",
        "        go.Bar(x=dff_tmp.ymd, y=-dff_tmp['amount'], text = my_text, hoverinfo = 'text', name = category)\n",
        "    )\n",
        "\n",
        "\n",
        "  layout = go.Layout(\n",
        "      barmode='group'\n",
        "  )\n",
        "\n",
        "  fig = go.Figure(data=data, layout=layout)\n",
        "  return(py.iplot(fig, filename='grouped-bar'))"
      ],
      "execution_count": 0,
      "outputs": []
    },
    {
      "metadata": {
        "id": "IEKp8k2NH7Fx",
        "colab_type": "code",
        "colab": {}
      },
      "cell_type": "code",
      "source": [
        "create_multi_bar(df, ['eating_out','groceries'])\n",
        "\n"
      ],
      "execution_count": 0,
      "outputs": []
    },
    {
      "metadata": {
        "id": "JalRCpMgYx6U",
        "colab_type": "code",
        "colab": {}
      },
      "cell_type": "code",
      "source": [
        "#### Create average per month for categories that are in play \n",
        "\n",
        "# Create a date range \n",
        "all_dates = pd.DataFrame({'ymd': pd.date_range(start='1/1/2018', end='31/12/2018')})\n",
        "all_dates['dummy'] = 1\n",
        "\n",
        "# Create all categories \n",
        "categories = df['category'].unique()\n",
        "categories = categories[categories != 'NaN']\n",
        "all_categories = pd.DataFrame({'category':categories})\n",
        "all_categories['dummy'] = 1\n",
        "\n",
        "# Create all dates and categories  \n",
        "df_dates = pd.merge(all_dates, all_categories, how='outer', on = 'dummy')\n",
        "\n",
        "# Join data to actuals \n",
        "df_dates = pd.merge(df_dates, df, how='left', on = ['ymd','category'])\n",
        "\n",
        "# Change all NaN in amount to 0s, note the use of \"inplace=True\"\n",
        "df_dates['amount'].fillna(0, inplace=True)\n",
        "df_dates.loc[df_dates['category'] == 'eating_out']\n",
        "\n",
        "# Create data\n",
        "categories = ['eating_out', 'transport','groceries','shopping']\n",
        "dff = df_dates[df_dates['category'].isin(make_list(categories))].groupby(['ymd','category']).agg({'amount':'sum'}).reset_index()\n",
        "dff.loc[dff['category']=='eating_out']\n",
        "\n",
        "# Create average \n",
        "test = dff.groupby(['category'])['amount'].rolling(window=30).sum().rolling(window=5).mean().reset_index(0, drop=True)\n",
        "\n",
        "# Join back to dataset \n",
        "dff['rolling_avg'] = test\n",
        "\n",
        "# Plot\n",
        "data = []\n",
        "for category in np.sort(dff['category'].unique()):\n",
        "  dff_tmp = dff[dff['category']==category]\n",
        "  data.append(\n",
        "      go.Scatter(x=dff_tmp.ymd, y=-dff_tmp['rolling_avg'], name = category)\n",
        "  )\n",
        "\n",
        "\n",
        "\n",
        "layout = go.Layout(\n",
        "    barmode='group'\n",
        ")\n",
        "\n",
        "fig = go.Figure(data=data, layout=layout)\n",
        "py.iplot(fig, filename='grouped-bar')"
      ],
      "execution_count": 0,
      "outputs": []
    },
    {
      "metadata": {
        "id": "hYoJNq4r2iqR",
        "colab_type": "code",
        "colab": {}
      },
      "cell_type": "code",
      "source": [
        ""
      ],
      "execution_count": 0,
      "outputs": []
    },
    {
      "metadata": {
        "id": "P9OFBZQrr3lp",
        "colab_type": "code",
        "colab": {}
      },
      "cell_type": "code",
      "source": [
        "dff.query(\"category == 'eating_out' & ymd > '2018-05-20'\")"
      ],
      "execution_count": 0,
      "outputs": []
    },
    {
      "metadata": {
        "id": "ODi4iOOxhpfl",
        "colab_type": "code",
        "colab": {}
      },
      "cell_type": "code",
      "source": [
        "df.to_dict('records')"
      ],
      "execution_count": 0,
      "outputs": []
    },
    {
      "metadata": {
        "id": "BFs0d1VN-UpG",
        "colab_type": "code",
        "colab": {}
      },
      "cell_type": "code",
      "source": [
        "test.head()"
      ],
      "execution_count": 0,
      "outputs": []
    },
    {
      "metadata": {
        "id": "y2j63dsjWy9Q",
        "colab_type": "code",
        "colab": {}
      },
      "cell_type": "code",
      "source": [
        "# \n",
        "\n",
        "# Create data\n",
        "categories = ['eating_out', 'transport']\n",
        "dff = df[df['category'].isin(make_list(categories))].groupby(['ymd','category','description']).agg({'amount':'sum'}).reset_index()\n",
        "\n",
        "# Create average \n",
        "test = dff.groupby(['category'])['amount'].rolling(window=15, win_type).mean().reset_index(0, drop=True)\n",
        "#test = dff.rolling(window=5).mean()\n",
        "test\n",
        "\n",
        "# Join back to dataset \n",
        "dff['rolling_avg'] = test\n",
        "\n",
        "\n",
        "\n",
        "# # Plot\n",
        "# data = []\n",
        "# for category in dff['category'].unique():\n",
        "#   dff_tmp = dff[dff['category']==category]\n",
        "#   data.append(\n",
        "#       go.Scatter(x=dff_tmp.ymd, y=-dff_tmp['rolling_avg'], name = category)\n",
        "#   )\n",
        "\n",
        "\n",
        "# layout = go.Layout(\n",
        "#     barmode='group'\n",
        "# )\n",
        "\n",
        "# fig = go.Figure(data=data, layout=layout)\n",
        "# py.iplot(fig, filename='grouped-bar')\n",
        "\n"
      ],
      "execution_count": 0,
      "outputs": []
    },
    {
      "metadata": {
        "id": "NpWLoPm5Kgr_",
        "colab_type": "code",
        "colab": {}
      },
      "cell_type": "code",
      "source": [
        "def create_multi_bar_data(df, categories):\n",
        "  dff = df[df['category'].isin(make_list(categories))].groupby(['ymd','category']).agg({'amount':'sum'}).reset_index()\n",
        "\n",
        "  data = []\n",
        "  for category in dff['category'].unique():\n",
        "    dff_tmp = dff[dff['category']==category]\n",
        "    data.append(\n",
        "        go.Bar(x=dff_tmp.ymd, y=-dff_tmp['amount'], name = category)\n",
        "    )\n",
        "    return(data)"
      ],
      "execution_count": 0,
      "outputs": []
    },
    {
      "metadata": {
        "id": "v_AKpPB8Kh_9",
        "colab_type": "code",
        "colab": {}
      },
      "cell_type": "code",
      "source": [
        "check = create_multi_bar_data(df, 'eating_out')\n",
        "check"
      ],
      "execution_count": 0,
      "outputs": []
    },
    {
      "metadata": {
        "id": "xcCoOHZuLA82",
        "colab_type": "code",
        "colab": {}
      },
      "cell_type": "code",
      "source": [
        ""
      ],
      "execution_count": 0,
      "outputs": []
    },
    {
      "metadata": {
        "id": "-q_0biOrr_Im",
        "colab_type": "code",
        "colab": {}
      },
      "cell_type": "code",
      "source": [
        "df_test = df[df['category']=='eating_out'].loc[:,[\"ymd\",'amount','category','description']]\n",
        "df_test.head()"
      ],
      "execution_count": 0,
      "outputs": []
    },
    {
      "metadata": {
        "id": "VlfSl-ot2ABH",
        "colab_type": "code",
        "colab": {}
      },
      "cell_type": "code",
      "source": [
        "dff = df[df.category=='eating_out']\n",
        "dff.head()"
      ],
      "execution_count": 0,
      "outputs": []
    },
    {
      "metadata": {
        "id": "6PN2hFETD73a",
        "colab_type": "code",
        "colab": {}
      },
      "cell_type": "code",
      "source": [
        "dff = df[df['category']=='eating_out'].groupby(['ymd','category']).agg({'amount':'sum'})\n",
        "type(dff)"
      ],
      "execution_count": 0,
      "outputs": []
    },
    {
      "metadata": {
        "id": "4YbClk1ktqXl",
        "colab_type": "code",
        "colab": {}
      },
      "cell_type": "code",
      "source": [
        "df[df['category'].isin(['bills'])]"
      ],
      "execution_count": 0,
      "outputs": []
    },
    {
      "metadata": {
        "id": "o_BBXTEwwazd",
        "colab_type": "code",
        "colab": {}
      },
      "cell_type": "code",
      "source": [
        "df = 'list'\n",
        "if isinstance(df, list): \n",
        "  df = df\n",
        "else: \n",
        "  df = [df]\n",
        "\n",
        "print(df)"
      ],
      "execution_count": 0,
      "outputs": []
    },
    {
      "metadata": {
        "id": "4_1l93dwGI1U",
        "colab_type": "code",
        "colab": {}
      },
      "cell_type": "code",
      "source": [
        "dff.index"
      ],
      "execution_count": 0,
      "outputs": []
    },
    {
      "metadata": {
        "id": "rGNXPwvXGMZ7",
        "colab_type": "code",
        "colab": {}
      },
      "cell_type": "code",
      "source": [
        "dff = dff.reset_index()"
      ],
      "execution_count": 0,
      "outputs": []
    },
    {
      "metadata": {
        "id": "JIUT6_M_GWdY",
        "colab_type": "code",
        "colab": {}
      },
      "cell_type": "code",
      "source": [
        "dff.columns"
      ],
      "execution_count": 0,
      "outputs": []
    },
    {
      "metadata": {
        "id": "lEcjvBUc5OvJ",
        "colab_type": "code",
        "colab": {}
      },
      "cell_type": "code",
      "source": [
        "dff = df.groupby('ymd').agg({'amount':'sum'})\n",
        "\n",
        "dff.columns"
      ],
      "execution_count": 0,
      "outputs": []
    },
    {
      "metadata": {
        "id": "5JjGnEDQWdlW",
        "colab_type": "code",
        "colab": {}
      },
      "cell_type": "code",
      "source": [
        "# Create a summary table \n",
        "agg_dict = {\n",
        "    \"local_amount\": [\"mean\",\"sum\",\"count\"], \n",
        "    }\n",
        "\n",
        "\n",
        "su = df.groupby(['date','category_comb']).agg(agg_dict)\n",
        "print(su)"
      ],
      "execution_count": 0,
      "outputs": []
    },
    {
      "metadata": {
        "id": "0LZ8g15L2WYx",
        "colab_type": "code",
        "colab": {}
      },
      "cell_type": "code",
      "source": [
        "# load an example dataset\n",
        "from vega_datasets import data\n",
        "cars = data.cars()\n",
        "\n",
        "# plot the dataset, referencing dataframe column names\n",
        "import altair as alt\n",
        "alt.Chart(cars).mark_point().encode(\n",
        "  x='Horsepower',\n",
        "  y='Miles_per_Gallon',\n",
        "  color='Origin'\n",
        ").interactive()"
      ],
      "execution_count": 0,
      "outputs": []
    },
    {
      "metadata": {
        "id": "skNKumZSWdlh",
        "colab_type": "code",
        "colab": {}
      },
      "cell_type": "code",
      "source": [
        "# Set Seaborn styles\n",
        "sns.set_style('whitegrid')\n",
        "sns.set(rc={'figure.figsize':(11.7,8.27)})\n",
        "\n"
      ],
      "execution_count": 0,
      "outputs": []
    },
    {
      "metadata": {
        "id": "0D1c25tQWdlo",
        "colab_type": "code",
        "cellView": "both",
        "colab": {}
      },
      "cell_type": "code",
      "source": [
        "#@title Spending by category\n",
        "\n",
        "# form fields\n",
        "categories = [\"eating_out\",\"general\"]  #@param\n",
        "max_income = 400  #@param {type: \"slider\", min: 0, max: 5000}\n",
        "max_spend = -500 #@param {type: \"slider\", min: -2000, max: 0}\n",
        "\n",
        "# filter data\n",
        "tmp = df.loc[(df['local_amount']>max_spend) & (df['local_amount']<max_income) & (df['category_comb'].isin(categories))]\n",
        "tmp.head()\n",
        "\n",
        "  \n",
        "# plot\n",
        "sns.catplot(x = \"category_comb\", y = \"local_amount\", kind = \"swarm\", data = tmp)\n",
        "fig = plt.gcf()\n",
        "fig.set_size_inches( 16, 10)\n",
        "plt.xticks(rotation=45)"
      ],
      "execution_count": 0,
      "outputs": []
    },
    {
      "metadata": {
        "id": "FAM6osx_VdkC",
        "colab_type": "code",
        "cellView": "form",
        "colab": {}
      },
      "cell_type": "code",
      "source": [
        "#@title Spending by category\n",
        "\n",
        "# form fields\n",
        "categories = [\"eating_out\",\"general\",\"transport\",\"holidays\"]  #@param\n",
        "max_income = 400  #@param {type: \"slider\", min: 0, max: 5000}\n",
        "max_spend = -500 #@param {type: \"slider\", min: -2000, max: 0}\n",
        "\n",
        "# filter data\n",
        "tmp = df.loc[(df['local_amount']>max_spend) & (df['local_amount']<max_income) & (df['category_comb'].isin(categories))]\n",
        "tmp.head()\n",
        "\n",
        "  \n",
        "# plot\n",
        "sns.catplot(x = \"category_comb\", y = \"local_amount\", kind = \"strip\", data = tmp, alpha = 0.7)\n",
        "fig = plt.gcf()\n",
        "fig.set_size_inches( 16, 10)\n",
        "plt.xticks(rotation=45)"
      ],
      "execution_count": 0,
      "outputs": []
    },
    {
      "metadata": {
        "id": "T06VlIzsYLCo",
        "colab_type": "code",
        "colab": {}
      },
      "cell_type": "code",
      "source": [
        "# Shows how to create a double list \n",
        "\n",
        "categories = df['category'].unique()\n",
        "avg_values = df.groupby('category').agg({'amount':'mean'}).amount\n",
        "[{'label': i, 'value': j} for i,j in zip(categories,avg_values)]\n",
        "dff = pd.DataFrame([{'label': i, 'value': j} for i,j in zip(categories,avg_values)])"
      ],
      "execution_count": 0,
      "outputs": []
    },
    {
      "metadata": {
        "id": "uYn2R4q49gw4",
        "colab_type": "code",
        "colab": {}
      },
      "cell_type": "code",
      "source": [
        "dff.head()"
      ],
      "execution_count": 0,
      "outputs": []
    },
    {
      "metadata": {
        "id": "DtsYvGOabd0F",
        "colab_type": "code",
        "colab": {}
      },
      "cell_type": "code",
      "source": [
        "categories = df['category'].unique()\n",
        "avg_values = df.groupby('category').agg({'amount':'mean'}).amount\n",
        "test = pd.DataFrame(data = {'cat':categories,'value':avg_values})"
      ],
      "execution_count": 0,
      "outputs": []
    },
    {
      "metadata": {
        "id": "U74k1d5t6kdS",
        "colab_type": "code",
        "colab": {}
      },
      "cell_type": "code",
      "source": [
        "categories"
      ],
      "execution_count": 0,
      "outputs": []
    },
    {
      "metadata": {
        "id": "hz77-1Wx6r1L",
        "colab_type": "code",
        "colab": {}
      },
      "cell_type": "code",
      "source": [
        "avg_values"
      ],
      "execution_count": 0,
      "outputs": []
    },
    {
      "metadata": {
        "id": "ydAB4aZifAf3",
        "colab_type": "code",
        "outputId": "b5e4f70b-5043-4695-c652-89ecf979d29c",
        "colab": {
          "base_uri": "https://localhost:8080/",
          "height": 34
        }
      },
      "cell_type": "code",
      "source": [
        "np.isnan(np.nan)"
      ],
      "execution_count": 0,
      "outputs": [
        {
          "output_type": "execute_result",
          "data": {
            "text/plain": [
              "True"
            ]
          },
          "metadata": {
            "tags": []
          },
          "execution_count": 36
        }
      ]
    },
    {
      "metadata": {
        "id": "gJg7SyRc6u2K",
        "colab_type": "text"
      },
      "cell_type": "markdown",
      "source": [
        "# Categorize outstanding transactions"
      ]
    },
    {
      "metadata": {
        "id": "ajrjkRrze0dM",
        "colab_type": "code",
        "outputId": "a89f3eb0-9d74-49d5-f7bc-ce02a3e7d30f",
        "colab": {
          "base_uri": "https://localhost:8080/",
          "height": 68
        }
      },
      "cell_type": "code",
      "source": [
        "df.category.unique()"
      ],
      "execution_count": 0,
      "outputs": [
        {
          "output_type": "execute_result",
          "data": {
            "text/plain": [
              "array(['bills', 'cash', 'eating_out', 'entertainment', 'general',\n",
              "       'expenses', 'groceries', 'holidays', 'personal_care', 'shopping',\n",
              "       'transport', nan], dtype=object)"
            ]
          },
          "metadata": {
            "tags": []
          },
          "execution_count": 33
        }
      ]
    },
    {
      "metadata": {
        "id": "3bJHpsscewP1",
        "colab_type": "code",
        "colab": {}
      },
      "cell_type": "code",
      "source": [
        "df.loc[(pd.isnull(df.category)) & (df.amount > 1500) & (df.category != \"transfer\"), 'category'] = 'salary'"
      ],
      "execution_count": 0,
      "outputs": []
    },
    {
      "metadata": {
        "colab_type": "code",
        "outputId": "65fc4195-e3be-4ecc-82e7-36e1f5bd516a",
        "id": "N3aoyTyAezgf",
        "colab": {
          "base_uri": "https://localhost:8080/",
          "height": 69
        }
      },
      "cell_type": "code",
      "source": [
        "df[pd.isnull(df.category)].sort_values('amount',ascending = 1)\n"
      ],
      "execution_count": 0,
      "outputs": [
        {
          "output_type": "execute_result",
          "data": {
            "text/html": [
              "<div>\n",
              "<style scoped>\n",
              "    .dataframe tbody tr th:only-of-type {\n",
              "        vertical-align: middle;\n",
              "    }\n",
              "\n",
              "    .dataframe tbody tr th {\n",
              "        vertical-align: top;\n",
              "    }\n",
              "\n",
              "    .dataframe thead th {\n",
              "        text-align: right;\n",
              "    }\n",
              "</style>\n",
              "<table border=\"1\" class=\"dataframe\">\n",
              "  <thead>\n",
              "    <tr style=\"text-align: right;\">\n",
              "      <th></th>\n",
              "      <th>id</th>\n",
              "      <th>date</th>\n",
              "      <th>created</th>\n",
              "      <th>amount</th>\n",
              "      <th>currency</th>\n",
              "      <th>local_amount</th>\n",
              "      <th>local_currency</th>\n",
              "      <th>category</th>\n",
              "      <th>emoji</th>\n",
              "      <th>description</th>\n",
              "      <th>address</th>\n",
              "      <th>notes</th>\n",
              "      <th>alt_category</th>\n",
              "      <th>category_comb</th>\n",
              "      <th>exclude</th>\n",
              "      <th>ymd</th>\n",
              "    </tr>\n",
              "  </thead>\n",
              "  <tbody>\n",
              "  </tbody>\n",
              "</table>\n",
              "</div>"
            ],
            "text/plain": [
              "Empty DataFrame\n",
              "Columns: [id, date, created, amount, currency, local_amount, local_currency, category, emoji, description, address, notes, alt_category, category_comb, exclude, ymd]\n",
              "Index: []"
            ]
          },
          "metadata": {
            "tags": []
          },
          "execution_count": 60
        }
      ]
    },
    {
      "metadata": {
        "id": "aHRKUn3hifxi",
        "colab_type": "code",
        "outputId": "f98e099c-1f78-46a7-a26d-376c59d8fc27",
        "colab": {
          "base_uri": "https://localhost:8080/",
          "height": 69
        }
      },
      "cell_type": "code",
      "source": [
        "df[df.category == 'expenses'].sort_values('amount',ascending = 1)"
      ],
      "execution_count": 0,
      "outputs": [
        {
          "output_type": "execute_result",
          "data": {
            "text/html": [
              "<div>\n",
              "<style scoped>\n",
              "    .dataframe tbody tr th:only-of-type {\n",
              "        vertical-align: middle;\n",
              "    }\n",
              "\n",
              "    .dataframe tbody tr th {\n",
              "        vertical-align: top;\n",
              "    }\n",
              "\n",
              "    .dataframe thead th {\n",
              "        text-align: right;\n",
              "    }\n",
              "</style>\n",
              "<table border=\"1\" class=\"dataframe\">\n",
              "  <thead>\n",
              "    <tr style=\"text-align: right;\">\n",
              "      <th></th>\n",
              "      <th>id</th>\n",
              "      <th>date</th>\n",
              "      <th>created</th>\n",
              "      <th>amount</th>\n",
              "      <th>currency</th>\n",
              "      <th>local_amount</th>\n",
              "      <th>local_currency</th>\n",
              "      <th>category</th>\n",
              "      <th>emoji</th>\n",
              "      <th>description</th>\n",
              "      <th>address</th>\n",
              "      <th>notes</th>\n",
              "      <th>alt_category</th>\n",
              "      <th>category_comb</th>\n",
              "      <th>exclude</th>\n",
              "      <th>ymd</th>\n",
              "    </tr>\n",
              "  </thead>\n",
              "  <tbody>\n",
              "  </tbody>\n",
              "</table>\n",
              "</div>"
            ],
            "text/plain": [
              "Empty DataFrame\n",
              "Columns: [id, date, created, amount, currency, local_amount, local_currency, category, emoji, description, address, notes, alt_category, category_comb, exclude, ymd]\n",
              "Index: []"
            ]
          },
          "metadata": {
            "tags": []
          },
          "execution_count": 71
        }
      ]
    },
    {
      "metadata": {
        "id": "lthPW77Og-16",
        "colab_type": "code",
        "colab": {}
      },
      "cell_type": "code",
      "source": [
        "# Impliment simple changes \n",
        "\n",
        "def category_assignment(df): \n",
        "  '''This function assigns categories where the category value\n",
        "  is not available. It follows fairly simple rules. Currently \n",
        "  implimented ones are: \n",
        "  \n",
        "  1.Transfer to and Transfer from are assigned 'transfer'\n",
        "  2.a 16 string number is 'general'\n",
        "  3.Funding C is 'transfer'\n",
        "  4.>2000 income is salary (if not also transfer)\n",
        "  5.Faster payments is asigned to entertainment\n",
        "  6.If notes contains funding cirlce then modify to Transfer\n",
        "  7.\n",
        "  '''\n",
        " \n",
        "  # Bulk classification\n",
        "  df.loc[df.description.str.contains(\"Transfer to|Transfer from\"), 'category'] = 'transfer' # transfers\n",
        "  df.loc[(df.description.str.contains(\"Maria Lachenauer\") & (df.amount < 0)), 'category'] = 'transfer' # Isabel transfers\n",
        "  df.loc[(df.description.str.contains(\"Robert Sturrock\") & (df.amount < 0)), 'category'] = 'transfer' # Isabel transfers\n",
        "  df.loc[(df.description.str.contains(\"Robert Sturrock\") & (df.amount < 0)), 'category'] = 'transfer' # Isabel transfers  \n",
        "  df.loc[df.description.str.match(\"\\d{16}\"), 'category'] = 'general' # credit card\n",
        "  df.loc[df.description.str.contains(\"Funding C\"), 'category'] = 'transfer' # funding circle\n",
        "  df.loc[df.description.str.match(\"VG\\d{16}\"), 'category'] = 'transfer' # vangaurd\n",
        "  df.loc[(df.description.str.contains(\"Faster Payments\")) & (df.amount < abs(500)), 'category'] = 'general' # payments to others\n",
        "\n",
        "  # Tag specifics\n",
        "  df.loc[df.description.str.contains(\"#savings\"), 'category'] = 'transfer' # payments to others\n",
        "  df.loc[df.description.str.contains(\"#savings\"), 'category'] = 'transfer' # payments to others\n",
        "  df.loc[df.description.str.contains(\"#google\"), 'category'] = 'transfer' # payments to others\n",
        "\n",
        "  \n",
        "  # This is replacing just the nulls\n",
        "  df.loc[(pd.isnull(df.category)) & (df.amount > 1500), 'category'] = 'salary'\n",
        "  df.loc[(pd.isnull(df.category)), 'category'] = 'general'\n",
        "  return df"
      ],
      "execution_count": 0,
      "outputs": []
    },
    {
      "metadata": {
        "id": "24mEs94TddVP",
        "colab_type": "code",
        "colab": {}
      },
      "cell_type": "code",
      "source": [
        "df = category_assignment(df)\n",
        "\n"
      ],
      "execution_count": 0,
      "outputs": []
    },
    {
      "metadata": {
        "id": "HHJaX8l2KlSP",
        "colab_type": "code",
        "outputId": "68f0f2bb-5fcb-4245-b8a1-89490a478bef",
        "colab": {
          "base_uri": "https://localhost:8080/",
          "height": 85
        }
      },
      "cell_type": "code",
      "source": [
        "df.category.unique()"
      ],
      "execution_count": 0,
      "outputs": [
        {
          "output_type": "execute_result",
          "data": {
            "text/plain": [
              "array(['bills', 'general', 'cash', 'transfer', 'eating_out',\n",
              "       'entertainment', 'expenses', 'groceries', 'holidays',\n",
              "       'personal_care', 'shopping', 'transport', 'salary', nan],\n",
              "      dtype=object)"
            ]
          },
          "metadata": {
            "tags": []
          },
          "execution_count": 57
        }
      ]
    },
    {
      "metadata": {
        "id": "ubm0BJhrRUnx",
        "colab_type": "code",
        "colab": {}
      },
      "cell_type": "code",
      "source": [
        ""
      ],
      "execution_count": 0,
      "outputs": []
    }
  ]
}