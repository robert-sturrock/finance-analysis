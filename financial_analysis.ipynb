{
  "nbformat": 4,
  "nbformat_minor": 0,
  "metadata": {
    "colab": {
      "name": "financial-analysis.ipynb",
      "version": "0.3.2",
      "provenance": [],
      "collapsed_sections": [
        "Ua5IWheoWdlV",
        "hHA9t3VSWdl0",
        "utf8jHKh_Hp2",
        "1nqTE7XPyiK5",
        "F6JEg_joWdl0"
      ],
      "include_colab_link": true
    },
    "kernelspec": {
      "display_name": "Python 3",
      "language": "python",
      "name": "python3"
    }
  },
  "cells": [
    {
      "cell_type": "markdown",
      "metadata": {
        "id": "view-in-github",
        "colab_type": "text"
      },
      "source": [
        "<a href=\"https://colab.research.google.com/github/robert-sturrock/finance-analysis/blob/master/financial_analysis.ipynb\" target=\"_parent\"><img src=\"https://colab.research.google.com/assets/colab-badge.svg\" alt=\"Open In Colab\"/></a>"
      ]
    },
    {
      "metadata": {
        "id": "n8syyc6myjh9",
        "colab_type": "code",
        "colab": {}
      },
      "cell_type": "code",
      "source": [
        "!pip install -U seaborn"
      ],
      "execution_count": 0,
      "outputs": []
    },
    {
      "metadata": {
        "id": "DFVnW109WdkE",
        "colab_type": "code",
        "colab": {}
      },
      "cell_type": "code",
      "source": [
        "import numpy as np\n",
        "import matplotlib as m\n",
        "import matplotlib.pyplot as plt\n",
        "import nltk as n\n",
        "\n",
        "import re as re\n",
        "import pandas as pd\n",
        "import unicodedata \n",
        "import requests\n",
        "import seaborn as sns\n",
        "%matplotlib inline\n",
        "\n"
      ],
      "execution_count": 0,
      "outputs": []
    },
    {
      "metadata": {
        "id": "u7Z7FujSWdkI",
        "colab_type": "text"
      },
      "cell_type": "markdown",
      "source": [
        "## Set up: iPhone\n",
        "Here we turn the block of text into a dataframe with a row for each individual message\n"
      ]
    },
    {
      "metadata": {
        "colab_type": "text",
        "id": "qaGNusWtpBoO"
      },
      "cell_type": "markdown",
      "source": [
        "## Set up: Android\n",
        "Here we turn the block of text into a dataframe with a row for each individual message\n"
      ]
    },
    {
      "metadata": {
        "id": "1Fiu7XG3pQ32",
        "colab_type": "code",
        "colab": {}
      },
      "cell_type": "code",
      "source": [
        "url = \"https://raw.githubusercontent.com/robert-sturrock/whatsapp-analysis-python/master/chat_adoptive_parents.txt\"\n",
        "#url = \"https://raw.githubusercontent.com/robert-sturrock/whatsapp-analysis-python/master/chat.txt\"\n",
        "r = requests.get(url)"
      ],
      "execution_count": 0,
      "outputs": []
    },
    {
      "metadata": {
        "id": "6HUUFCvwpy7s",
        "colab_type": "code",
        "colab": {}
      },
      "cell_type": "code",
      "source": [
        "chat_text = unicodedata.normalize(\"NFKD\", r.text)"
      ],
      "execution_count": 0,
      "outputs": []
    },
    {
      "metadata": {
        "id": "utHrnMubp2JD",
        "colab_type": "code",
        "colab": {}
      },
      "cell_type": "code",
      "source": [
        "print(chat_text[:1000])"
      ],
      "execution_count": 0,
      "outputs": []
    },
    {
      "metadata": {
        "id": "ptLPsPdkrGVw",
        "colab_type": "code",
        "colab": {}
      },
      "cell_type": "code",
      "source": [
        "# Split the chat into lines\n",
        "tmp = chat_text.split(\"\\n\")"
      ],
      "execution_count": 0,
      "outputs": []
    },
    {
      "metadata": {
        "id": "wOGhywY8rIxH",
        "colab_type": "code",
        "colab": {}
      },
      "cell_type": "code",
      "source": [
        "# Split lines into parts\n",
        "tmp = [re.split(\"[AP]M\\s-\\s|:\\s\",line) for line in tmp]\n",
        "tmp[1:100]"
      ],
      "execution_count": 0,
      "outputs": []
    },
    {
      "metadata": {
        "id": "e_ECn-cFrn4q",
        "colab_type": "code",
        "colab": {}
      },
      "cell_type": "code",
      "source": [
        "# Only keep entries with 3 parts (to eliminate admin notes)\n",
        "tmp = [x for x in tmp if len(x) == 3]"
      ],
      "execution_count": 0,
      "outputs": []
    },
    {
      "metadata": {
        "colab_type": "code",
        "id": "1JqZ3qbdvFqY",
        "colab": {}
      },
      "cell_type": "code",
      "source": [
        "df = pd.DataFrame(tmp)\n",
        "df.columns = ['date_time','sender','message']"
      ],
      "execution_count": 0,
      "outputs": []
    },
    {
      "metadata": {
        "id": "Vm4k7ikin-Mf",
        "colab_type": "code",
        "colab": {}
      },
      "cell_type": "code",
      "source": [
        "# Create blanks\n",
        "df['time'] = ''\n",
        "df['mdy'] = ''\n",
        "\n",
        "# Create a column with the timestamp \n",
        "df['time'] = df['date_time'].str.extract('.*,(.*)\\s', expand=True)\n",
        "\n",
        "# Create date only column\n",
        "df['mdy'] = df['date_time'].str.extract('(.*),.*\\s', expand=True)\n",
        "\n"
      ],
      "execution_count": 0,
      "outputs": []
    },
    {
      "metadata": {
        "id": "e8lIDDH4vf9X",
        "colab_type": "code",
        "colab": {}
      },
      "cell_type": "code",
      "source": [
        "df.head()"
      ],
      "execution_count": 0,
      "outputs": []
    },
    {
      "metadata": {
        "id": "2aHHGFNQWdk8",
        "colab_type": "text"
      },
      "cell_type": "markdown",
      "source": [
        "## Detailed cleaning\n",
        "\n",
        "This stage involves various bits of cleaning that we will need to do in order to: \n",
        "\n",
        "1. Have multiple messages sent by the same individual show up as the same message (conditional on them having the same type) \n"
      ]
    },
    {
      "metadata": {
        "colab_type": "text",
        "id": "SH1NJiGus7Dz"
      },
      "cell_type": "markdown",
      "source": [
        ""
      ]
    },
    {
      "metadata": {
        "colab_type": "code",
        "id": "SnUnmhy8s6ft",
        "colab": {}
      },
      "cell_type": "code",
      "source": [
        "df[df['message'].str.startswith(' lol no  i think lent is dumb')]\n",
        "df[df['message'].str.contains('i think lent')]"
      ],
      "execution_count": 0,
      "outputs": []
    },
    {
      "metadata": {
        "colab_type": "code",
        "id": "_-S7gb91spWC",
        "colab": {}
      },
      "cell_type": "code",
      "source": [
        "df[df.message.str.find(\"lol no\") > 0]"
      ],
      "execution_count": 0,
      "outputs": []
    },
    {
      "metadata": {
        "id": "BRk4KbjCWdlL",
        "colab_type": "code",
        "colab": {}
      },
      "cell_type": "code",
      "source": [
        "# Create a variable that counts unique person messages - ie it adds one everytime someone new puts in a message\n",
        "# I could run this as a function. Basic idea: \n",
        "# If sender[-1]!=sender[0] then count[0]=count[-1]+1\n",
        "\n",
        "# Create a count vector\n",
        "results = [1]\n",
        "count = 1\n",
        "for i in range(1,len(df.index)): \n",
        "    if df[\"sender\"].iloc[i] == df[\"sender\"].iloc[i-1]:   # Note single [] give you series while [[]] output a dataframe\n",
        "        results.append(count)\n",
        "    else: \n",
        "        count += 1\n",
        "        results.append(count)\n",
        "\n",
        "        \n",
        "# Join this vector onto the dataframe \n",
        "df['sender_group'] = results\n",
        "\n",
        "# Check results \n",
        "\n",
        "\n",
        "df.iloc[0:10]"
      ],
      "execution_count": 0,
      "outputs": []
    },
    {
      "metadata": {
        "id": "PH67MrddWdlN",
        "colab_type": "code",
        "colab": {}
      },
      "cell_type": "code",
      "source": [
        "# Create a dataframe with just the text row and person name \n",
        "df_sm = df[['sender','sender_group',\"message\"]]\n",
        "\n",
        "# Combine the text from these on a row by row basis\n",
        "df_sm_test = [' '.join(d[1]) for d in df_sm.groupby(['sender_group'])['message']]\n",
        "\n",
        "# Show results \n",
        "df_sm_test[4]"
      ],
      "execution_count": 0,
      "outputs": []
    },
    {
      "metadata": {
        "id": "9tWWKdfMWdlQ",
        "colab_type": "code",
        "colab": {}
      },
      "cell_type": "code",
      "source": [
        "# Create a new dataset that is just done by the aggregated messages \n",
        "df_grp = df.groupby('sender_group').first()\n",
        "\n",
        "# Replace message with the combined message\n",
        "df_grp['message'] = df_sm_test\n",
        "\n",
        "# Check \n",
        "print(df_grp['message'].iloc[4])\n",
        "print(df['message'].iloc[8])"
      ],
      "execution_count": 0,
      "outputs": []
    },
    {
      "metadata": {
        "id": "o3-zs_E3x5ze",
        "colab_type": "code",
        "colab": {}
      },
      "cell_type": "code",
      "source": [
        "# Replace the dataframe\n",
        "df = df_grp"
      ],
      "execution_count": 0,
      "outputs": []
    },
    {
      "metadata": {
        "id": "Ua5IWheoWdlV",
        "colab_type": "text"
      },
      "cell_type": "markdown",
      "source": [
        "## Basic plots\n",
        "\n",
        "Here we want to show things like:\n",
        "1.How many messages people sent \n",
        "2.How long were people's average message\n",
        "3.Density plot of message length \n"
      ]
    },
    {
      "metadata": {
        "id": "LF-RyluIViKf",
        "colab_type": "code",
        "colab": {}
      },
      "cell_type": "code",
      "source": [
        "# Create density plot function\n",
        "def create_multi_distribution(group, value, title):\n",
        "  \n",
        "  # Iterate through the senders\n",
        "  for item in df[group].unique():\n",
        "\n",
        "      # Subset to the person\n",
        "      subset = df[df[group] == item]\n",
        "\n",
        "      # Draw the density plot\n",
        "      sns.distplot(subset[value], hist = False, kde = True,\n",
        "                   kde_kws = {'linewidth': 2},\n",
        "                   label = group)\n",
        "\n",
        "  # Plot formatting\n",
        "  plt.legend(prop={'size': 10}, title = 'Airline')\n",
        "  plt.title(title)\n",
        "  plt.show()\n",
        "  "
      ],
      "execution_count": 0,
      "outputs": []
    },
    {
      "metadata": {
        "id": "DxNhtzfqWdlV",
        "colab_type": "code",
        "colab": {}
      },
      "cell_type": "code",
      "source": [
        "# Create message length variable\n",
        "df = df_grp\n",
        "df['msg_length'] = df['message'].apply(len)\n"
      ],
      "execution_count": 0,
      "outputs": []
    },
    {
      "metadata": {
        "id": "5JjGnEDQWdlW",
        "colab_type": "code",
        "colab": {}
      },
      "cell_type": "code",
      "source": [
        "# Create a summary table \n",
        "agg_dict = {\n",
        "    \"msg_length\": [\"mean\",\"sum\"], \n",
        "    \"message\":\"count\"\n",
        "    }\n",
        "\n",
        "\n",
        "su = df.groupby('sender').agg(agg_dict)\n",
        "print(su)"
      ],
      "execution_count": 0,
      "outputs": []
    },
    {
      "metadata": {
        "id": "4i8A31FTWdlY",
        "colab_type": "code",
        "colab": {}
      },
      "cell_type": "code",
      "source": [
        "\n",
        "# Plot the length of messages people sent \n",
        "fig, ax = plt.subplots()\n",
        "ax.bar(x = su.index, height = su.msg_length[\"mean\"])\n",
        "plt.ylabel('Message Length', fontsize=13)\n",
        "plt.xlabel('Sender', fontsize=10)\n",
        "plt.show()\n",
        "\n",
        "# Plot the number of messages people sent \n",
        "fig, ax = plt.subplots()\n",
        "ax.bar(x = su.index, height = su.message[\"count\"])\n",
        "plt.ylabel('Message Number', fontsize=13)\n",
        "plt.xlabel('Sender', fontsize=10)\n",
        "plt.show()\n",
        "\n"
      ],
      "execution_count": 0,
      "outputs": []
    },
    {
      "metadata": {
        "id": "ZDV_fvMyWdlb",
        "colab_type": "code",
        "colab": {}
      },
      "cell_type": "code",
      "source": [
        "su.plot.barh(y = (\"msg_length\", \"mean\"))"
      ],
      "execution_count": 0,
      "outputs": []
    },
    {
      "metadata": {
        "id": "gpOGBmuzWdld",
        "colab_type": "code",
        "colab": {}
      },
      "cell_type": "code",
      "source": [
        "for col in su:\n",
        "    su[col].plot.bar()"
      ],
      "execution_count": 0,
      "outputs": []
    },
    {
      "metadata": {
        "id": "DGMsqHshWdlf",
        "colab_type": "code",
        "colab": {}
      },
      "cell_type": "code",
      "source": [
        "# Density plot of message length\n",
        "\n",
        "# Iterate through the senders\n",
        "for sender in df[\"sender\"].unique():\n",
        "    \n",
        "    # Subset to the person\n",
        "    subset = df[df['sender'] == sender]\n",
        "    \n",
        "    # Draw the density plot\n",
        "    sns.distplot(subset['msg_length'], hist = False, kde = True,\n",
        "                 kde_kws = {'linewidth': 3},\n",
        "                 label = sender)\n",
        "    \n",
        "# Plot formatting\n",
        "plt.legend(prop={'size': 10}, title = 'Airline')\n",
        "plt.title('Density Plot with Multiple Airlines')\n",
        "plt.xlabel('Delay (min)')\n",
        "plt.ylabel('Density')\n",
        "plt.show()"
      ],
      "execution_count": 0,
      "outputs": []
    },
    {
      "metadata": {
        "id": "skNKumZSWdlh",
        "colab_type": "code",
        "colab": {}
      },
      "cell_type": "code",
      "source": [
        "sns.set_style('whitegrid')\n",
        "sns.kdeplot(df[\"msg_length\"], bw=0.5)"
      ],
      "execution_count": 0,
      "outputs": []
    },
    {
      "metadata": {
        "id": "0D1c25tQWdlo",
        "colab_type": "code",
        "colab": {}
      },
      "cell_type": "code",
      "source": [
        "sns.catplot(x = \"sender\", y = \"msg_length\", kind = \"swarm\", data = df[1:1000])"
      ],
      "execution_count": 0,
      "outputs": []
    },
    {
      "metadata": {
        "id": "QfaTHSu3Wdlr",
        "colab_type": "code",
        "colab": {}
      },
      "cell_type": "code",
      "source": [
        "sns.catplot(x = \"sender\", y = \"msg_length\", kind = \"boxen\", data = df)"
      ],
      "execution_count": 0,
      "outputs": []
    },
    {
      "metadata": {
        "id": "hHA9t3VSWdl0",
        "colab_type": "text"
      },
      "cell_type": "markdown",
      "source": [
        "## Create a matrix  of who replies to whom\n",
        "\n"
      ]
    },
    {
      "metadata": {
        "id": "co1cu5_ukdNc",
        "colab_type": "code",
        "colab": {}
      },
      "cell_type": "code",
      "source": [
        "# Create a varible with the responder in it \n",
        "df[\"responder\"] = df[\"sender\"].shift(-1)"
      ],
      "execution_count": 0,
      "outputs": []
    },
    {
      "metadata": {
        "id": "pQ5sBAEOlvNA",
        "colab_type": "code",
        "colab": {}
      },
      "cell_type": "code",
      "source": [
        "# Create a table of responders and senders \n",
        "table = pd.crosstab(index=df['sender'], columns=df['responder'])\n",
        "\n",
        "sns.heatmap(table,cmap=\"Blues\")\n"
      ],
      "execution_count": 0,
      "outputs": []
    },
    {
      "metadata": {
        "id": "utf8jHKh_Hp2",
        "colab_type": "text"
      },
      "cell_type": "markdown",
      "source": [
        "## Highlight stories \n",
        "Here I want to pull out the longest messages sent by people\n"
      ]
    },
    {
      "metadata": {
        "id": "lkKQPShsWdlu",
        "colab_type": "code",
        "colab": {}
      },
      "cell_type": "code",
      "source": [
        "df[df['msg_length']>1000].message.values"
      ],
      "execution_count": 0,
      "outputs": []
    },
    {
      "metadata": {
        "id": "1nqTE7XPyiK5",
        "colab_type": "text"
      },
      "cell_type": "markdown",
      "source": [
        "##Sentiment Analysis"
      ]
    },
    {
      "metadata": {
        "id": "D2Rv3sdW-i_I",
        "colab_type": "text"
      },
      "cell_type": "markdown",
      "source": [
        "Here we want to run sentiment analysis on the chat. We want to be able to score statements by their emotional content. "
      ]
    },
    {
      "metadata": {
        "id": "Y62JW145CAFc",
        "colab_type": "code",
        "colab": {}
      },
      "cell_type": "code",
      "source": [
        "%%capture\n",
        "\n",
        "from nltk.corpus import stopwords\n",
        "from nltk.tokenize import word_tokenize\n",
        "from nltk.stem import PorterStemmer\n",
        "n.download('stopwords')\n",
        "n.download('punkt')\n",
        "n.download('brown')\n",
        "ps = n.stem.PorterStemmer()\n"
      ],
      "execution_count": 0,
      "outputs": []
    },
    {
      "metadata": {
        "id": "D-sjCtK5-gIa",
        "colab_type": "code",
        "colab": {}
      },
      "cell_type": "code",
      "source": [
        "example_sent = \"This is a sample sentence, showing off the stop words filtration.\"\n",
        "\n",
        "stop_words = set(n.corpus.stopwords.words('english'))\n",
        "\n",
        "word_tokens = n.tokenize.word_tokenize(example_sent)\n",
        "\n",
        "filtered_sentence = [w for w in word_tokens if not w in stop_words]\n",
        "\n",
        "\n",
        "print(word_tokens)\n",
        "print(filtered_sentence)"
      ],
      "execution_count": 0,
      "outputs": []
    },
    {
      "metadata": {
        "id": "Jb8pBCKnEGNN",
        "colab_type": "text"
      },
      "cell_type": "markdown",
      "source": [
        "Now we need to stem the words to try and eliminate redundant repititions of the same word with different endings. All we want is the meaning\n"
      ]
    },
    {
      "metadata": {
        "id": "2LVmNMH9-iFw",
        "colab_type": "code",
        "colab": {}
      },
      "cell_type": "code",
      "source": [
        "[ps.stem(word) for word in word_tokens]"
      ],
      "execution_count": 0,
      "outputs": []
    },
    {
      "metadata": {
        "id": "fpCkt0ZlFl7j",
        "colab_type": "code",
        "colab": {}
      },
      "cell_type": "code",
      "source": [
        "from textblob import TextBlob\n"
      ],
      "execution_count": 0,
      "outputs": []
    },
    {
      "metadata": {
        "id": "-YC8kSj1GMUG",
        "colab_type": "code",
        "colab": {}
      },
      "cell_type": "code",
      "source": [
        "test['sentiment'] = [TextBlob(message).sentiment.polarity for message in test['message']]\n",
        "test.head()"
      ],
      "execution_count": 0,
      "outputs": []
    },
    {
      "metadata": {
        "id": "kqD1zufGNX4f",
        "colab_type": "code",
        "colab": {}
      },
      "cell_type": "code",
      "source": [
        "df['sentiment'] = [TextBlob(message).sentiment.polarity for message in df['message']]\n",
        "df.head()"
      ],
      "execution_count": 0,
      "outputs": []
    },
    {
      "metadata": {
        "id": "o_vf-KPaNd4k",
        "colab_type": "code",
        "colab": {}
      },
      "cell_type": "code",
      "source": [
        "df[df['sentiment']==df['sentiment'].min()]"
      ],
      "execution_count": 0,
      "outputs": []
    },
    {
      "metadata": {
        "id": "vRSe2mCyN6aY",
        "colab_type": "text"
      },
      "cell_type": "markdown",
      "source": [
        "Now we want to look at the average sentiment by person. And probably also make some plots\n"
      ]
    },
    {
      "metadata": {
        "id": "76L7EE9YPZ7X",
        "colab_type": "code",
        "colab": {}
      },
      "cell_type": "code",
      "source": [
        "tmp = df.groupby('sender')\n",
        "tmp['sentiment'].describe()"
      ],
      "execution_count": 0,
      "outputs": []
    },
    {
      "metadata": {
        "id": "0PJblKJGRnHN",
        "colab_type": "code",
        "outputId": "3f3e6ca1-a91c-4f69-f205-06a70698ed6f",
        "colab": {
          "base_uri": "https://localhost:8080/",
          "height": 295
        }
      },
      "cell_type": "code",
      "source": [
        "create_multi_distribution(\"sender\",\"sentiment\",\"Sentiment densities by sender\")"
      ],
      "execution_count": 0,
      "outputs": [
        {
          "output_type": "display_data",
          "data": {
            "image/png": "[encoded data removed]",
            "text/plain": [
              "<matplotlib.figure.Figure at 0x7f81514767f0>"
            ]
          },
          "metadata": {
            "tags": []
          }
        }
      ]
    },
    {
      "metadata": {
        "id": "F6JEg_joWdl0",
        "colab_type": "text"
      },
      "cell_type": "markdown",
      "source": [
        "## Helper functions\n",
        "These are just functions I'm learning about while exploring Python\n"
      ]
    },
    {
      "metadata": {
        "id": "MC2VAnAGWdl1",
        "colab_type": "code",
        "outputId": "712618c2-80b9-4cd7-d988-384ab7214e64",
        "colab": {
          "base_uri": "https://localhost:8080/",
          "height": 102
        }
      },
      "cell_type": "code",
      "source": [
        "%who\n"
      ],
      "execution_count": 0,
      "outputs": [
        {
          "output_type": "stream",
          "text": [
            "PorterStemmer\t TextBlob\t agg_dict\t ax\t chat_text\t col\t count\t create_multi_distribution\t df\t \n",
            "df_grp\t df_sm\t df_sm_test\t example_sent\t fig\t filtered_sentence\t i\t list\t m\t \n",
            "message\t n\t np\t pd\t plt\t ps\t r\t re\t requests\t \n",
            "results\t sender\t sns\t stop_words\t stopwords\t su\t subset\t table\t test\t \n",
            "testimonial\t tmp\t unicodedata\t url\t w\t wiki\t word_tokenize\t word_tokens\t \n"
          ],
          "name": "stdout"
        }
      ]
    },
    {
      "metadata": {
        "id": "eU8Y2FwuWdl4",
        "colab_type": "code",
        "colab": {}
      },
      "cell_type": "code",
      "source": [
        "dir(chat)\n",
        "type(chat)\n"
      ],
      "execution_count": 0,
      "outputs": []
    },
    {
      "metadata": {
        "id": "zDYx-y8iWdl7",
        "colab_type": "code",
        "colab": {}
      },
      "cell_type": "code",
      "source": [
        "dir(sm_df)\n"
      ],
      "execution_count": 0,
      "outputs": []
    },
    {
      "metadata": {
        "id": "n96pIlIvWdl-",
        "colab_type": "code",
        "colab": {}
      },
      "cell_type": "code",
      "source": [
        "len(sm_df.index)"
      ],
      "execution_count": 0,
      "outputs": []
    },
    {
      "metadata": {
        "id": "H-cH6I8XyYAS",
        "colab_type": "code",
        "colab": {}
      },
      "cell_type": "code",
      "source": [
        "import seaborn as sns\n",
        "print(sns.__version__)"
      ],
      "execution_count": 0,
      "outputs": []
    }
  ]
}